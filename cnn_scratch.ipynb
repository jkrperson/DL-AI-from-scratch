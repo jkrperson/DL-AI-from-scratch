{
 "cells": [
  {
   "cell_type": "code",
   "execution_count": 2,
   "metadata": {},
   "outputs": [],
   "source": [
    "import torch\n",
    "import torchvision\n",
    "import torch.nn as nn"
   ]
  },
  {
   "cell_type": "markdown",
   "metadata": {},
   "source": [
    "# Data"
   ]
  },
  {
   "cell_type": "code",
   "execution_count": 3,
   "metadata": {},
   "outputs": [],
   "source": [
    "transforms = torchvision.transforms.Compose([\n",
    "    torchvision.transforms.Resize(30),\n",
    "    torchvision.transforms.ToTensor()\n",
    "])"
   ]
  },
  {
   "cell_type": "code",
   "execution_count": 4,
   "metadata": {},
   "outputs": [
    {
     "name": "stdout",
     "output_type": "stream",
     "text": [
      "Files already downloaded and verified\n"
     ]
    }
   ],
   "source": [
    "train_data = torchvision.datasets.CIFAR10(\"datasets\", download=True, transform=transforms)\n",
    "train_loader = torch.utils.data.DataLoader(train_data, batch_size=32, shuffle=True)"
   ]
  },
  {
   "cell_type": "markdown",
   "metadata": {},
   "source": [
    "# Cross-correlation from scratch"
   ]
  },
  {
   "cell_type": "code",
   "execution_count": 5,
   "metadata": {},
   "outputs": [],
   "source": [
    "# The corr2d only corresponds to one channel of the input.\n",
    "# We an already implement padding, and stride to our function\n",
    "\n",
    "# Due to laziness padding and stride are ints and are applied symmetrically\n",
    "\n",
    "def corr2d(X, K, padding=1, stride=1):\n",
    "    # We assume 2 dimensional X and K\n",
    "\n",
    "    X = torch.nn.functional.pad(X, (padding,padding,padding,padding))\n",
    "\n",
    "    h, w = K.shape\n",
    "\n",
    "    out_h = ((X.shape[0] - h)//stride) + 1\n",
    "    out_w = ((X.shape[1] - h)//stride) + 1\n",
    "\n",
    "    Y = torch.zeros((out_h, out_w))\n",
    "    for i in range(Y.shape[0]):\n",
    "        for j in range(Y.shape[1]):\n",
    "            Y[i, j] = ( X[ (i*stride) : (i*stride) + h, (j*stride) : (j*stride) + w] * K ).sum()\n",
    "    return Y"
   ]
  },
  {
   "cell_type": "code",
   "execution_count": 6,
   "metadata": {},
   "outputs": [],
   "source": [
    "# Now for multiple channels this can be expanded \n",
    "\n",
    "def corr2d_multi_channels(X, K, padding=1, stride=1):\n",
    "    return sum(corr2d(x, k, padding, stride) for x, k in zip(X,K))"
   ]
  },
  {
   "cell_type": "code",
   "execution_count": 7,
   "metadata": {},
   "outputs": [],
   "source": [
    "# Lastly, the output an also have multiple channels hence K has 4 dimensions:\n",
    "# Output Channel x Input channel x height x width\n",
    "\n",
    "def corr2d_multi_in_out(X, K, padding=1, stride=1):\n",
    "    return torch.stack([corr2d_multi_channels(X, k, padding, stride) for k in K], 0)"
   ]
  },
  {
   "cell_type": "code",
   "execution_count": 8,
   "metadata": {},
   "outputs": [],
   "source": [
    "def conv_batch(X, K, padding=1, stride=1):\n",
    "    return torch.stack([corr2d_multi_in_out(x,K, padding, stride) for x in X], 0)"
   ]
  },
  {
   "cell_type": "code",
   "execution_count": 9,
   "metadata": {},
   "outputs": [],
   "source": [
    "class Conv2d(nn.Module):\n",
    "    def __init__(self, out_channel, in_channel, kernel_size=(3,3), padding=1, stride=1):\n",
    "        super(Conv2d, self).__init__()\n",
    "        self.kernel = torch.nn.parameter.Parameter(torch.rand((out_channel,in_channel, kernel_size[0], kernel_size[1])))\n",
    "        self.padding = padding\n",
    "        self.stride = stride\n",
    "\n",
    "    def forward(self, X):\n",
    "        x = conv_batch(X, self.kernel, self.padding, self.stride)\n",
    "        return x"
   ]
  },
  {
   "cell_type": "code",
   "execution_count": 10,
   "metadata": {},
   "outputs": [],
   "source": [
    "# We now do pooling\n",
    "# Max or Ave pooling\n",
    "class Pool2d(nn.Module):\n",
    "    def __init__(self, pool_size, mode=\"max\"):\n",
    "        super().__init__()\n",
    "        self.mode = mode\n",
    "        self.p_h, self.p_w = pool_size\n",
    "    \n",
    "    def forward(self, X):\n",
    "        Y = torch.zeros((X.shape[0], X.shape[1], X.shape[2] - self.p_h + 1, X.shape[3] - self.p_w + 1))\n",
    "        for b in range(Y.shape[0]):\n",
    "            for c in range(Y.shape[1]):\n",
    "                for i in range(Y.shape[2]):\n",
    "                    for j in range(Y.shape[3]):\n",
    "                        if self.mode == \"max\":\n",
    "                            Y[b, c, i, j] = X[b, c, i : i + self.p_h, j: j + self.p_w].max()\n",
    "                        else:\n",
    "                            Y[b, c, i, j] = X[b, c, i : i + self.p_h, j: j + self.p_w].mean()\n",
    "\n",
    "        return Y"
   ]
  },
  {
   "cell_type": "code",
   "execution_count": 11,
   "metadata": {},
   "outputs": [],
   "source": [
    "class SimpleCNN(nn.Module):\n",
    "    def __init__(self, num_classes):\n",
    "        super().__init__()\n",
    "        self.net = nn.Sequential(\n",
    "            Conv2d(2, 3, (2, 2)), nn.ReLU(),\n",
    "            Pool2d((2, 2)),\n",
    "            Conv2d(2, 2, (2, 2)), nn.ReLU(),\n",
    "            Pool2d((2,2)),\n",
    "            nn.Flatten(),\n",
    "            nn.LazyLinear(120), nn.Sigmoid(),\n",
    "            nn.LazyLinear(40), nn.Sigmoid(),\n",
    "            nn.LazyLinear(num_classes),\n",
    "            nn.Softmax()\n",
    "        )\n",
    "\n",
    "    def forward(self, x):\n",
    "        x = self.net(x)\n",
    "        return x"
   ]
  },
  {
   "cell_type": "code",
   "execution_count": 12,
   "metadata": {},
   "outputs": [
    {
     "name": "stderr",
     "output_type": "stream",
     "text": [
      "/home/apollo/miniconda3/lib/python3.11/site-packages/torch/nn/modules/lazy.py:180: UserWarning: Lazy modules are a new feature under heavy development so changes to the API or functionality can happen at any moment.\n",
      "  warnings.warn('Lazy modules are a new feature under heavy development '\n"
     ]
    }
   ],
   "source": [
    "simplecnn = SimpleCNN(len(train_data.classes))"
   ]
  },
  {
   "cell_type": "code",
   "execution_count": 13,
   "metadata": {},
   "outputs": [],
   "source": [
    "loss_fn = nn.CrossEntropyLoss()"
   ]
  },
  {
   "cell_type": "code",
   "execution_count": 14,
   "metadata": {},
   "outputs": [],
   "source": [
    "optim = torch.optim.SGD(simplecnn.parameters(), lr=5e-3)"
   ]
  },
  {
   "cell_type": "code",
   "execution_count": 15,
   "metadata": {},
   "outputs": [],
   "source": [
    "from tqdm import tqdm"
   ]
  },
  {
   "cell_type": "code",
   "execution_count": 17,
   "metadata": {},
   "outputs": [
    {
     "name": "stderr",
     "output_type": "stream",
     "text": [
      "  0%|          | 0/1563 [00:00<?, ?it/s]"
     ]
    }
   ],
   "source": [
    "for X, Y in tqdm(train_loader):\n",
    "    optim.zero_grad()\n",
    "\n",
    "    y_hat = simplecnn(X)\n",
    "    loss = loss_fn(y_hat, Y)\n",
    "\n",
    "    loss.backward()\n",
    "    optim.step()\n",
    "\n",
    "    print(f\"Batch Loss: {loss.item()}\")"
   ]
  },
  {
   "cell_type": "code",
   "execution_count": null,
   "metadata": {},
   "outputs": [],
   "source": []
  },
  {
   "cell_type": "code",
   "execution_count": null,
   "metadata": {},
   "outputs": [],
   "source": []
  },
  {
   "cell_type": "code",
   "execution_count": null,
   "metadata": {},
   "outputs": [],
   "source": []
  },
  {
   "cell_type": "markdown",
   "metadata": {},
   "source": [
    "def corr2d(X, K):"
   ]
  },
  {
   "cell_type": "code",
   "execution_count": null,
   "metadata": {},
   "outputs": [],
   "source": []
  }
 ],
 "metadata": {
  "kernelspec": {
   "display_name": "base",
   "language": "python",
   "name": "python3"
  },
  "language_info": {
   "codemirror_mode": {
    "name": "ipython",
    "version": 3
   },
   "file_extension": ".py",
   "mimetype": "text/x-python",
   "name": "python",
   "nbconvert_exporter": "python",
   "pygments_lexer": "ipython3",
   "version": "3.11.4"
  },
  "orig_nbformat": 4
 },
 "nbformat": 4,
 "nbformat_minor": 2
}
